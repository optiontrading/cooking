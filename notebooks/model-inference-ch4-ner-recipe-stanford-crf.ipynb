{
 "cells": [
  {
   "cell_type": "code",
   "execution_count": null,
   "id": "b2a97eb2-2772-4d33-b6c1-e39f4d5125fc",
   "metadata": {},
   "outputs": [],
   "source": [
    "# download model files\n",
    "# !wget --header=\"Host: www.kaggle.com\" --header=\"User-Agent: Mozilla/5.0 (Windows NT 10.0; Win64; x64) AppleWebKit/537.36 (KHTML, like Gecko) Chrome/116.0.0.0 Safari/537.36\" --header=\"Accept: text/html,application/xhtml+xml,application/xml;q=0.9,image/avif,image/webp,image/apng,*/*;q=0.8,application/signed-exchange;v=b3;q=0.7\" --header=\"Accept-Language: en-US,en;q=0.9\" --header=\"Referer: https://www.kaggle.com/code/gauravchopracg/ch4-ner-recipe-stanford-crf/output\" --header=\"Cookie: _ga=GA1.1.1235742038.1685189414; ka_sessionid=169b520d9297b98b21ff363ea9b08174; __Host-KAGGLEID=CfDJ8CZgwPbu9HpPkNrjSx7TThSWV_uBzgDeunQ03nbnEGMNnfsiW24qh0d6JLlvF1WdfzGrIG1JxkcGZWNY-R4wn2u8OrKgdA7u4KvTgau812Oh0sUy7dBSPlXb; ACCEPTED_COOKIES=true; CSRF-TOKEN=CfDJ8CZgwPbu9HpPkNrjSx7TThS5WCQh7El0SllR3bA0CA2Bhd-nlhfEgaEgUFGkFzegUgbEI90mnvcgX5OVzHaWZZWUCpZ5dX55EieiSNi-MQ; GCLB=CP-JjK-3mNXkTQ; XSRF-TOKEN=CfDJ8CZgwPbu9HpPkNrjSx7TThSqGbOm1ml97vkWIouF_0Oaxk9W_PnwDCWh1YOf1OUMSf-S_MTxY1twzWePxH5eSUSMRZFGvV-Z1blKzwhA6nwNBkrsom2tVjGg7hN6xm7gjabUgwxz19EU5wOTfw8RbsU; CLIENT-TOKEN=eyJhbGciOiJub25lIiwidHlwIjoiSldUIn0.eyJpc3MiOiJrYWdnbGUiLCJhdWQiOiJjbGllbnQiLCJzdWIiOiJnYXVyYXZjaG9wcmFjZyIsIm5idCI6IjIwMjMtMDktMjFUMDU6NDg6MTYuOTg1MDEwNFoiLCJpYXQiOiIyMDIzLTA5LTIxVDA1OjQ4OjE2Ljk4NTAxMDRaIiwianRpIjoiMzRhYWFkMmItMDZmNC00MmNiLTlkOTAtMjAyZWQyNTliYWVjIiwiZXhwIjoiMjAyMy0xMC0yMVQwNTo0ODoxNi45ODUwMTA0WiIsInVpZCI6MTQ2MjQzMSwiZGlzcGxheU5hbWUiOiJHYXVyYXYgQ2hvcHJhIiwiZW1haWwiOiJnYXVyYXZjaG9wcmFjZ0BnbWFpbC5jb20iLCJ0aWVyIjoiQ29udHJpYnV0b3IiLCJ2ZXJpZmllZCI6dHJ1ZSwicHJvZmlsZVVybCI6Ii9nYXVyYXZjaG9wcmFjZyIsInRodW1ibmFpbFVybCI6Imh0dHBzOi8vc3RvcmFnZS5nb29nbGVhcGlzLmNvbS9rYWdnbGUtYXZhdGFycy90aHVtYm5haWxzLzE0NjI0MzEta2cuanBnIiwiZmYiOlsiS2VybmVsc0RyYWZ0VXBsb2FkQmxvYiIsIktlcm5lbHNGaXJlYmFzZUxvbmdQb2xsaW5nIiwiQ29tbXVuaXR5TG93ZXJIZWFkZXJTaXplcyIsIkFsbG93Rm9ydW1BdHRhY2htZW50cyIsIktlcm5lbHNTYXZlQ2VsbE91dHB1dCIsIkZyb250ZW5kRXJyb3JSZXBvcnRpbmciLCJSZWdpc3RyYXRpb25OZXdzRW1haWxTaWdudXBJc09wdE91dCIsIkRhdGFzZXRzTWFuYWdlZEZvY3VzT25PcGVuIiwiQ2hhbmdlRGF0YXNldE93bmVyc2hpcFRvT3JnIiwiTWF1UmVwb3J0IiwiTW9kZWxzQ2FjaGVkVGFnU2VydmljZUVuYWJsZWQiLCJEYXRhc2V0c1NoYXJlZFdpdGhUaGVtU2VhcmNoIiwiRGF0YXNldHNWb3RpbmdDaGlwcyIsIk1vZGVsSW5zdGFuY2VSZW5kZXJlZFVzYWdlIiwiUmVjZW50bHlWaWV3ZWRNb2RlbHNTaGVsZiIsIk1vZGVsc09wZW5WZXJ0ZXgiXSwiZmZkIjp7Iktlcm5lbEVkaXRvckF1dG9zYXZlVGhyb3R0bGVNcyI6IjMwMDAwIiwiRnJvbnRlbmRFcnJvclJlcG9ydGluZ1NhbXBsZVJhdGUiOiIwIiwiRW1lcmdlbmN5QWxlcnRCYW5uZXIiOiJ7IH0iLCJDbGllbnRScGNSYXRlTGltaXQiOiI0MCIsIkZlYXR1cmVkQ29tbXVuaXR5Q29tcGV0aXRpb25zIjoiNjAwOTUsNTIzMDAsNTQ4NTkiLCJBZGRGZWF0dXJlRmxhZ3NUb1BhZ2VMb2FkVGFnIjoiZGlzYWJsZWQiLCJDb21wZXRpdGlvbk1ldHJpY1RpbWVvdXRNaW51dGVzIjoiMzAifSwicGlkIjoia2FnZ2xlLTE2MTYwNyIsInN2YyI6IndlYi1mZSIsInNkYWsiOiJBSXphU3lBNGVOcVVkUlJza0pzQ1pXVnotcUw2NTVYYTVKRU1yZUUiLCJibGQiOiJkMTVlYmNjOTUzYzA4NTRkYTdiNTYwNGRjYWU2ZDBhMmQ1YjYwMzg4In0.; _ga_T7QHS60L4Q=GS1.1.1695279672.5.0.1695279672.0.0.0\" --header=\"Connection: keep-alive\" \"https://www.kaggle.com/code/svzip/143669099\" -c -O 'results.zip'"
   ]
  },
  {
   "cell_type": "code",
   "execution_count": null,
   "id": "b8549d17-df3b-45c6-9b3c-8041f06656ca",
   "metadata": {},
   "outputs": [],
   "source": [
    "# unzip results.zip\n",
    "!unzip -q results.zip"
   ]
  },
  {
   "cell_type": "code",
   "execution_count": null,
   "id": "fff63a1c-ff6b-4d15-9d59-369c2cc8a12c",
   "metadata": {},
   "outputs": [],
   "source": [
    "# !sudo apt-get -y install unzip"
   ]
  },
  {
   "cell_type": "code",
   "execution_count": null,
   "id": "a9cdae1c-6a63-433a-93ff-7d221f27a001",
   "metadata": {},
   "outputs": [],
   "source": [
    "!ls"
   ]
  },
  {
   "cell_type": "code",
   "execution_count": null,
   "id": "69548328-8689-4694-8a2d-65216119c061",
   "metadata": {},
   "outputs": [],
   "source": [
    "!pip install stanza"
   ]
  },
  {
   "cell_type": "code",
   "execution_count": null,
   "id": "1a3b48a3-19eb-41a9-812c-2521a4c1624c",
   "metadata": {},
   "outputs": [],
   "source": [
    "import stanza\n",
    "# stanza.install_corenlp()"
   ]
  },
  {
   "cell_type": "code",
   "execution_count": null,
   "id": "1f82594f-4d67-490f-9ad6-14aee92572d7",
   "metadata": {},
   "outputs": [],
   "source": [
    "import os\n",
    "import re\n",
    "from pathlib import Path\n",
    "\n",
    "# Reimplement the logic to find the path where stanza_corenlp is installed.\n",
    "core_nlp_path = os.getenv('CORENLP_HOME', str(Path.home() / 'stanza_corenlp'))\n",
    "\n",
    "# A heuristic to find the right jar file\n",
    "classpath = [str(p) for p in Path(core_nlp_path).iterdir() if re.match(r\"stanford-corenlp-[0-9.]+\\.jar\", p.name)][0]\n",
    "classpath"
   ]
  },
  {
   "cell_type": "code",
   "execution_count": null,
   "id": "da971906-a52b-42bd-ba17-dcc871d558fd",
   "metadata": {},
   "outputs": [],
   "source": [
    "from typing import List, Tuple, Generator\n",
    "from tqdm.notebook import tqdm\n",
    "from stanza.server import CoreNLPClient\n",
    "\n",
    "def annotate_ner(ner_model_file: str, texts: List[str], tokenize_whitespace: bool = True):\n",
    "    properties = {\"ner.model\": ner_model_file, \"tokenize.whitespace\": tokenize_whitespace, \"ner.applyNumericClassifiers\": False}\n",
    "    \n",
    "    annotated = []\n",
    "    with CoreNLPClient(\n",
    "         annotators=['tokenize','ssplit','ner'],\n",
    "         properties=properties,\n",
    "         timeout=30000,\n",
    "         be_quiet=True,\n",
    "        memory='6G') as client:\n",
    "    \n",
    "        for text in tqdm(texts):\n",
    "            annotated.append(client.annotate(text))\n",
    "    return annotated"
   ]
  },
  {
   "cell_type": "code",
   "execution_count": null,
   "id": "236249ec-6329-43fd-8939-11749d402926",
   "metadata": {},
   "outputs": [],
   "source": [
    "# load model\n",
    "model_name = 'ar'\n",
    "model_file = f'{model_name}.model.ser.gz'\n",
    "ner_prop_filename = f'{model_name}.model.props'"
   ]
  },
  {
   "cell_type": "code",
   "execution_count": null,
   "id": "bc17e099-51fd-4dfb-a869-87dfda270a4b",
   "metadata": {},
   "outputs": [],
   "source": [
    "annotations = annotate_ner(model_file,\n",
    "                           [\"1 cup pineapple chunks \",\n",
    "                            \"1 cup coconut milk \",\n",
    "                            \"1⁄4 cup ice cubes \",\n",
    "                            \"1⁄2 medium banana \"])"
   ]
  },
  {
   "cell_type": "code",
   "execution_count": null,
   "id": "8457b430-36d2-4f39-8658-10de7b17fd7e",
   "metadata": {
    "scrolled": true
   },
   "outputs": [],
   "source": [
    "annotations[0]"
   ]
  },
  {
   "cell_type": "code",
   "execution_count": null,
   "id": "47c7b638-5aa4-4470-80c5-39982ceeaf8e",
   "metadata": {
    "scrolled": true
   },
   "outputs": [],
   "source": [
    "tokens = [token for sentence in annotations[0].sentence for token in sentence.token]\n",
    "tokens"
   ]
  },
  {
   "cell_type": "code",
   "execution_count": null,
   "id": "62603f90-9d78-4ac9-b6b0-70f44d1db588",
   "metadata": {},
   "outputs": [],
   "source": [
    "for t in tokens:\n",
    "    print(t.coarseNER, ':', t.word)\n",
    "# tokens=[t.word for t in tokens], ner=[t.coarseNER for t in tokens]"
   ]
  },
  {
   "cell_type": "code",
   "execution_count": null,
   "id": "72f75b05-3135-4333-a2a2-142f5fd196c3",
   "metadata": {},
   "outputs": [],
   "source": [
    "\n",
    "tokens = [token for sentence in annotation.sentence for token in sentence.token]\n",
    "    return NERData(tokens=[t.word for t in tokens], ner=[t.coarseNER for t in tokens])"
   ]
  },
  {
   "cell_type": "code",
   "execution_count": null,
   "id": "060c52f4-b91d-48f9-955f-6a6d4221f3fc",
   "metadata": {},
   "outputs": [],
   "source": [
    "annotations[2].sentence[0].token[3]"
   ]
  },
  {
   "cell_type": "code",
   "execution_count": null,
   "id": "aafd6901-ae43-471b-a753-191ec577fd52",
   "metadata": {},
   "outputs": [],
   "source": [
    "annotations[3].sentence[0].token[2]"
   ]
  },
  {
   "cell_type": "code",
   "execution_count": null,
   "id": "4d7ce0ca-f8ba-4b19-8e72-29420e968ace",
   "metadata": {},
   "outputs": [],
   "source": [
    "from dataclasses import dataclass, asdict\n",
    "import pandas as pd\n",
    "\n",
    "@dataclass\n",
    "class NERData:\n",
    "    ner: List[str]\n",
    "    tokens: List[str]\n",
    "        \n",
    "    # Let's use Pandas to make it pretty in a notebook\n",
    "    def _repr_html_(self):\n",
    "        return pd.DataFrame(asdict(self)).T._repr_html_()\n",
    "\n",
    "def extract_ner_data(annotation) -> NERData:\n",
    "    tokens = [token for sentence in annotation.sentence for token in sentence.token]\n",
    "    return NERData(tokens=[t.word for t in tokens], ner=[t.coarseNER for t in tokens])"
   ]
  },
  {
   "cell_type": "code",
   "execution_count": null,
   "id": "3fcb9922-c811-4950-8c83-c2e270b7a6b0",
   "metadata": {},
   "outputs": [],
   "source": [
    "extract_ner_data(annotations[0])"
   ]
  },
  {
   "cell_type": "code",
   "execution_count": null,
   "id": "1350a3f2-a6f5-41b3-8ff0-c39d7c0b01c6",
   "metadata": {},
   "outputs": [],
   "source": [
    "extract_ner_data(annotations[1])"
   ]
  },
  {
   "cell_type": "code",
   "execution_count": null,
   "id": "969d6ba1-78c3-4932-9858-a3e8d5dbe1ec",
   "metadata": {},
   "outputs": [],
   "source": [
    "extract_ner_data(annotations[2])"
   ]
  },
  {
   "cell_type": "code",
   "execution_count": null,
   "id": "7d17e53f-474b-4a58-af0c-65a98808d2a2",
   "metadata": {},
   "outputs": [],
   "source": [
    "extract_ner_data(annotations[3])"
   ]
  },
  {
   "cell_type": "code",
   "execution_count": null,
   "id": "61ed372a-b6ee-4ae7-a093-33e7706c0557",
   "metadata": {},
   "outputs": [],
   "source": [
    "# integrating the model with pdf2text version"
   ]
  }
 ],
 "metadata": {
  "kernelspec": {
   "display_name": "Python 3 (ipykernel)",
   "language": "python",
   "name": "python3"
  },
  "language_info": {
   "codemirror_mode": {
    "name": "ipython",
    "version": 3
   },
   "file_extension": ".py",
   "mimetype": "text/x-python",
   "name": "python",
   "nbconvert_exporter": "python",
   "pygments_lexer": "ipython3",
   "version": "3.9.2"
  }
 },
 "nbformat": 4,
 "nbformat_minor": 5
}
