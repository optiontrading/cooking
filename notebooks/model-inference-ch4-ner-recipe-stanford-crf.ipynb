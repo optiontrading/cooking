{
 "cells": [
  {
   "cell_type": "code",
   "execution_count": null,
   "id": "b2a97eb2-2772-4d33-b6c1-e39f4d5125fc",
   "metadata": {},
   "outputs": [],
   "source": [
    "# download model files\n",
    "# !wget --header=\"Host: www.kaggle.com\" --header=\"User-Agent: Mozilla/5.0 (Windows NT 10.0; Win64; x64) AppleWebKit/537.36 (KHTML, like Gecko) Chrome/117.0.0.0 Safari/537.36\" --header=\"Accept: text/html,application/xhtml+xml,application/xml;q=0.9,image/avif,image/webp,image/apng,*/*;q=0.8,application/signed-exchange;v=b3;q=0.7\" --header=\"Accept-Language: en-US,en;q=0.9\" --header=\"Referer: https://www.kaggle.com/code/gauravchopracg/ch4-ner-recipe-stanford-crf/output\" --header=\"Cookie: _ga=GA1.1.1235742038.1685189414; ka_sessionid=169b520d9297b98b21ff363ea9b08174; ACCEPTED_COOKIES=true; CSRF-TOKEN=CfDJ8MNDZicIIV1FkFqrIKA-ArGdwZDOlun_xSuI0GZPDEaoPPML0yWA86CNC14HCMZa29V-EWvX58ukP4iuKZy8Khjb0W94NUljLJHidVEijQ; __Host-KAGGLEID=CfDJ8MNDZicIIV1FkFqrIKA-ArGP72P01y00BAnPjg-r7NxQB49_M4hXdMxcl826hFyvHXIwOTu6ikdQ3lWUgroWPbSnGnyrhIoE__TdgBCKvUlwUzIW50eeRD2Q; GCLB=CMe7wZeFtoGqKw; XSRF-TOKEN=CfDJ8MNDZicIIV1FkFqrIKA-ArH_Xd2goK_h6AMy7ehKSaJ8pkX-CDkZhVYyjz4yaYDCCb-lJksSAjKgG-n49-aJ83iWAQMM9NIDBwltoOcSTP2fixCvVu7AaD7aE9Jbgl7gn24Thqn9lEZkbJ-Ue8skQ0w; CLIENT-TOKEN=eyJhbGciOiJub25lIiwidHlwIjoiSldUIn0.eyJpc3MiOiJrYWdnbGUiLCJhdWQiOiJjbGllbnQiLCJzdWIiOiJnYXVyYXZjaG9wcmFjZyIsIm5idCI6IjIwMjMtMTAtMDFUMDU6NTE6MzguNDY5MzEzM1oiLCJpYXQiOiIyMDIzLTEwLTAxVDA1OjUxOjM4LjQ2OTMxMzNaIiwianRpIjoiYjdhNjQ1NjQtMjY1My00YTYzLThkOGUtMTYzOTIyNjI1N2U1IiwiZXhwIjoiMjAyMy0xMS0wMVQwNTo1MTozOC40NjkzMTMzWiIsInVpZCI6MTQ2MjQzMSwiZGlzcGxheU5hbWUiOiJHYXVyYXYgQ2hvcHJhIiwiZW1haWwiOiJnYXVyYXZjaG9wcmFjZ0BnbWFpbC5jb20iLCJ0aWVyIjoiQ29udHJpYnV0b3IiLCJ2ZXJpZmllZCI6dHJ1ZSwicHJvZmlsZVVybCI6Ii9nYXVyYXZjaG9wcmFjZyIsInRodW1ibmFpbFVybCI6Imh0dHBzOi8vc3RvcmFnZS5nb29nbGVhcGlzLmNvbS9rYWdnbGUtYXZhdGFycy90aHVtYm5haWxzLzE0NjI0MzEta2cuanBnIiwiZmYiOlsiS2VybmVsc0RyYWZ0VXBsb2FkQmxvYiIsIktlcm5lbHNGaXJlYmFzZUxvbmdQb2xsaW5nIiwiQ29tbXVuaXR5TG93ZXJIZWFkZXJTaXplcyIsIkNvbXBldGl0aW9uc0ZpbGVzRHJvcEthZ2dsZUFwaSIsIkFsbG93Rm9ydW1BdHRhY2htZW50cyIsIktlcm5lbHNTYXZlQ2VsbE91dHB1dCIsIkZyb250ZW5kRXJyb3JSZXBvcnRpbmciLCJSZWdpc3RyYXRpb25OZXdzRW1haWxTaWdudXBJc09wdE91dCIsIktNRGF0YXNldFZlcnNpb25VcGxvYWRlciIsIktNRGF0YXNldFVwbG9hZGVyRm9yS2VybmVscyIsIkRhdGFzZXRzTWFuYWdlZEZvY3VzT25PcGVuIiwiQ2hhbmdlRGF0YXNldE93bmVyc2hpcFRvT3JnIiwiTWF1UmVwb3J0IiwiTW9kZWxzQ2FjaGVkVGFnU2VydmljZUVuYWJsZWQiLCJNb2RlbHNUYWJPbkNvbXBldGl0aW9uUGFnZSIsIkRhdGFzZXRzU2hhcmVkV2l0aFRoZW1TZWFyY2giLCJEYXRhc2V0c1ZvdGluZ0NoaXBzIiwiTW9kZWxJbnN0YW5jZVJlbmRlcmVkVXNhZ2UiLCJSZWNlbnRseVZpZXdlZE1vZGVsc1NoZWxmIiwiTW9kZWxzT3BlblZlcnRleCJdLCJmZmQiOnsiS2VybmVsRWRpdG9yQXV0b3NhdmVUaHJvdHRsZU1zIjoiMzAwMDAiLCJGcm9udGVuZEVycm9yUmVwb3J0aW5nU2FtcGxlUmF0ZSI6IjAiLCJFbWVyZ2VuY3lBbGVydEJhbm5lciI6InsgfSIsIkNsaWVudFJwY1JhdGVMaW1pdCI6IjQwIiwiRmVhdHVyZWRDb21tdW5pdHlDb21wZXRpdGlvbnMiOiI2MDA5NSw1MjMwMCw1NDg1OSIsIkFkZEZlYXR1cmVGbGFnc1RvUGFnZUxvYWRUYWciOiJkaXNhYmxlZCIsIkNvbXBldGl0aW9uTWV0cmljVGltZW91dE1pbnV0ZXMiOiIzMCJ9LCJwaWQiOiJrYWdnbGUtMTYxNjA3Iiwic3ZjIjoid2ViLWZlIiwic2RhayI6IkFJemFTeUE0ZU5xVWRSUnNrSnNDWldWei1xTDY1NVhhNUpFTXJlRSIsImJsZCI6ImUwMDJiMzc4MmFkMmJmNGU4NGIwYWEzYTc5ZTExZTcwMTMxYTY5YzkifQ.; _ga_T7QHS60L4Q=GS1.1.1696139484.9.1.1696139503.0.0.0\" --header=\"Connection: keep-alive\" \"https://www.kaggle.com/code/svzip/143669099\" -c -O 'results.zip'"
   ]
  },
  {
   "cell_type": "code",
   "execution_count": null,
   "id": "b8549d17-df3b-45c6-9b3c-8041f06656ca",
   "metadata": {},
   "outputs": [],
   "source": [
    "# unzip results.zip\n",
    "# !unzip -q results.zip"
   ]
  },
  {
   "cell_type": "code",
   "execution_count": null,
   "id": "fff63a1c-ff6b-4d15-9d59-369c2cc8a12c",
   "metadata": {},
   "outputs": [],
   "source": [
    "# !sudo apt-get -y install unzip"
   ]
  },
  {
   "cell_type": "code",
   "execution_count": null,
   "id": "a9cdae1c-6a63-433a-93ff-7d221f27a001",
   "metadata": {},
   "outputs": [],
   "source": [
    "!ls"
   ]
  },
  {
   "cell_type": "code",
   "execution_count": null,
   "id": "69548328-8689-4694-8a2d-65216119c061",
   "metadata": {},
   "outputs": [],
   "source": [
    "!pip install stanza"
   ]
  },
  {
   "cell_type": "code",
   "execution_count": 1,
   "id": "1a3b48a3-19eb-41a9-812c-2521a4c1624c",
   "metadata": {},
   "outputs": [],
   "source": [
    "import stanza\n",
    "# stanza.install_corenlp()"
   ]
  },
  {
   "cell_type": "code",
   "execution_count": 2,
   "id": "1f82594f-4d67-490f-9ad6-14aee92572d7",
   "metadata": {},
   "outputs": [
    {
     "data": {
      "text/plain": [
       "'/home/himani/stanza_corenlp/stanford-corenlp-4.5.5.jar'"
      ]
     },
     "execution_count": 2,
     "metadata": {},
     "output_type": "execute_result"
    }
   ],
   "source": [
    "import os\n",
    "import re\n",
    "from pathlib import Path\n",
    "\n",
    "# Reimplement the logic to find the path where stanza_corenlp is installed.\n",
    "core_nlp_path = os.getenv('CORENLP_HOME', str(Path.home() / 'stanza_corenlp'))\n",
    "\n",
    "# A heuristic to find the right jar file\n",
    "classpath = [str(p) for p in Path(core_nlp_path).iterdir() if re.match(r\"stanford-corenlp-[0-9.]+\\.jar\", p.name)][0]\n",
    "classpath"
   ]
  },
  {
   "cell_type": "code",
   "execution_count": 3,
   "id": "da971906-a52b-42bd-ba17-dcc871d558fd",
   "metadata": {},
   "outputs": [],
   "source": [
    "from typing import List, Tuple, Generator\n",
    "from tqdm.notebook import tqdm\n",
    "from stanza.server import CoreNLPClient\n",
    "\n",
    "def annotate_ner(ner_model_file: str, texts: List[str], tokenize_whitespace: bool = True):\n",
    "    properties = {\"ner.model\": ner_model_file, \"tokenize.whitespace\": tokenize_whitespace, \"ner.applyNumericClassifiers\": False}\n",
    "    \n",
    "    annotated = []\n",
    "    with CoreNLPClient(\n",
    "         annotators=['tokenize','ssplit','ner'],\n",
    "         properties=properties,\n",
    "         timeout=30000,\n",
    "         be_quiet=True,\n",
    "        memory='6G') as client:\n",
    "    \n",
    "        for text in tqdm(texts):\n",
    "            annotated.append(client.annotate(text))\n",
    "    return annotated"
   ]
  },
  {
   "cell_type": "code",
   "execution_count": 4,
   "id": "236249ec-6329-43fd-8939-11749d402926",
   "metadata": {},
   "outputs": [],
   "source": [
    "# load model\n",
    "model_name = 'ar'\n",
    "model_file = f'{model_name}.model.ser.gz'\n",
    "ner_prop_filename = f'{model_name}.model.props'"
   ]
  },
  {
   "cell_type": "code",
   "execution_count": 5,
   "id": "bc17e099-51fd-4dfb-a869-87dfda270a4b",
   "metadata": {},
   "outputs": [
    {
     "name": "stderr",
     "output_type": "stream",
     "text": [
      "2023-10-01 05:52:39 INFO: Writing properties to tmp file: corenlp_server-c25877a7d1d4488c.props\n",
      "2023-10-01 05:52:39 INFO: Starting server with command: java -Xmx6G -cp /home/himani/stanza_corenlp/* edu.stanford.nlp.pipeline.StanfordCoreNLPServer -port 9000 -timeout 30000 -threads 5 -maxCharLength 100000 -quiet True -serverProperties corenlp_server-c25877a7d1d4488c.props -annotators tokenize,ssplit,ner -preload -outputFormat serialized\n"
     ]
    },
    {
     "data": {
      "application/vnd.jupyter.widget-view+json": {
       "model_id": "ad238d4dd55c48c0b8454e7275f87457",
       "version_major": 2,
       "version_minor": 0
      },
      "text/plain": [
       "  0%|          | 0/4 [00:00<?, ?it/s]"
      ]
     },
     "metadata": {},
     "output_type": "display_data"
    }
   ],
   "source": [
    "annotations = annotate_ner(model_file,\n",
    "                           [\"1 cup pineapple chunks \",\n",
    "                            \"1 cup coconut milk \",\n",
    "                            \"1⁄4 cup ice cubes \",\n",
    "                            \"1⁄2 medium banana \"])"
   ]
  },
  {
   "cell_type": "code",
   "execution_count": 6,
   "id": "8457b430-36d2-4f39-8658-10de7b17fd7e",
   "metadata": {
    "scrolled": true
   },
   "outputs": [
    {
     "data": {
      "text/plain": [
       "text: \"1 cup pineapple chunks \"\n",
       "sentence {\n",
       "  token {\n",
       "    word: \"1\"\n",
       "    pos: \"CD\"\n",
       "    value: \"1\"\n",
       "    originalText: \"1\"\n",
       "    ner: \"QUANTITY\"\n",
       "    coarseNER: \"QUANTITY\"\n",
       "    fineGrainedNER: \"QUANTITY\"\n",
       "    nerLabelProbs: \"QUANTITY=0.9999409535565039\"\n",
       "    lemma: \"1\"\n",
       "    beginChar: 0\n",
       "    endChar: 1\n",
       "    tokenBeginIndex: 0\n",
       "    tokenEndIndex: 1\n",
       "    hasXmlContext: false\n",
       "    isNewline: false\n",
       "    entityMentionIndex: 0\n",
       "  }\n",
       "  token {\n",
       "    word: \"cup\"\n",
       "    pos: \"NN\"\n",
       "    value: \"cup\"\n",
       "    originalText: \"cup\"\n",
       "    ner: \"UNIT\"\n",
       "    coarseNER: \"UNIT\"\n",
       "    fineGrainedNER: \"UNIT\"\n",
       "    nerLabelProbs: \"UNIT=0.9980774934275409\"\n",
       "    lemma: \"cup\"\n",
       "    beginChar: 2\n",
       "    endChar: 5\n",
       "    tokenBeginIndex: 1\n",
       "    tokenEndIndex: 2\n",
       "    hasXmlContext: false\n",
       "    isNewline: false\n",
       "    entityMentionIndex: 1\n",
       "  }\n",
       "  token {\n",
       "    word: \"pineapple\"\n",
       "    pos: \"NN\"\n",
       "    value: \"pineapple\"\n",
       "    originalText: \"pineapple\"\n",
       "    ner: \"NAME\"\n",
       "    coarseNER: \"NAME\"\n",
       "    fineGrainedNER: \"NAME\"\n",
       "    nerLabelProbs: \"NAME=0.9781283832531004\"\n",
       "    lemma: \"pineapple\"\n",
       "    beginChar: 6\n",
       "    endChar: 15\n",
       "    tokenBeginIndex: 2\n",
       "    tokenEndIndex: 3\n",
       "    hasXmlContext: false\n",
       "    isNewline: false\n",
       "    entityMentionIndex: 2\n",
       "  }\n",
       "  token {\n",
       "    word: \"chunks\"\n",
       "    pos: \"NNS\"\n",
       "    value: \"chunks\"\n",
       "    originalText: \"chunks\"\n",
       "    ner: \"NAME\"\n",
       "    coarseNER: \"NAME\"\n",
       "    fineGrainedNER: \"NAME\"\n",
       "    nerLabelProbs: \"NAME=0.9884207249307203\"\n",
       "    lemma: \"chunk\"\n",
       "    beginChar: 16\n",
       "    endChar: 22\n",
       "    tokenBeginIndex: 3\n",
       "    tokenEndIndex: 4\n",
       "    hasXmlContext: false\n",
       "    isNewline: false\n",
       "    entityMentionIndex: 2\n",
       "  }\n",
       "  tokenOffsetBegin: 0\n",
       "  tokenOffsetEnd: 4\n",
       "  sentenceIndex: 0\n",
       "  characterOffsetBegin: 0\n",
       "  characterOffsetEnd: 22\n",
       "  hasRelationAnnotations: false\n",
       "  hasNumerizedTokensAnnotation: false\n",
       "  mentions {\n",
       "    sentenceIndex: 0\n",
       "    tokenStartInSentenceInclusive: 0\n",
       "    tokenEndInSentenceExclusive: 1\n",
       "    ner: \"QUANTITY\"\n",
       "    entityType: \"QUANTITY\"\n",
       "    entityMentionIndex: 0\n",
       "    canonicalEntityMentionIndex: 0\n",
       "    entityMentionText: \"1\"\n",
       "  }\n",
       "  mentions {\n",
       "    sentenceIndex: 0\n",
       "    tokenStartInSentenceInclusive: 1\n",
       "    tokenEndInSentenceExclusive: 2\n",
       "    ner: \"UNIT\"\n",
       "    entityType: \"UNIT\"\n",
       "    entityMentionIndex: 1\n",
       "    canonicalEntityMentionIndex: 1\n",
       "    entityMentionText: \"cup\"\n",
       "  }\n",
       "  mentions {\n",
       "    sentenceIndex: 0\n",
       "    tokenStartInSentenceInclusive: 2\n",
       "    tokenEndInSentenceExclusive: 4\n",
       "    ner: \"NAME\"\n",
       "    entityType: \"NAME\"\n",
       "    entityMentionIndex: 2\n",
       "    canonicalEntityMentionIndex: 2\n",
       "    entityMentionText: \"pineapple chunks\"\n",
       "  }\n",
       "  hasEntityMentionsAnnotation: true\n",
       "}\n",
       "mentions {\n",
       "  sentenceIndex: 0\n",
       "  tokenStartInSentenceInclusive: 0\n",
       "  tokenEndInSentenceExclusive: 1\n",
       "  ner: \"QUANTITY\"\n",
       "  entityType: \"QUANTITY\"\n",
       "  entityMentionIndex: 0\n",
       "  canonicalEntityMentionIndex: 0\n",
       "  entityMentionText: \"1\"\n",
       "}\n",
       "mentions {\n",
       "  sentenceIndex: 0\n",
       "  tokenStartInSentenceInclusive: 1\n",
       "  tokenEndInSentenceExclusive: 2\n",
       "  ner: \"UNIT\"\n",
       "  entityType: \"UNIT\"\n",
       "  entityMentionIndex: 1\n",
       "  canonicalEntityMentionIndex: 1\n",
       "  entityMentionText: \"cup\"\n",
       "}\n",
       "mentions {\n",
       "  sentenceIndex: 0\n",
       "  tokenStartInSentenceInclusive: 2\n",
       "  tokenEndInSentenceExclusive: 4\n",
       "  ner: \"NAME\"\n",
       "  entityType: \"NAME\"\n",
       "  entityMentionIndex: 2\n",
       "  canonicalEntityMentionIndex: 2\n",
       "  entityMentionText: \"pineapple chunks\"\n",
       "}\n",
       "hasEntityMentionsAnnotation: true\n",
       "xmlDoc: false\n",
       "hasCorefMentionAnnotation: false\n",
       "hasCorefAnnotation: false"
      ]
     },
     "execution_count": 6,
     "metadata": {},
     "output_type": "execute_result"
    }
   ],
   "source": [
    "annotations[0]"
   ]
  },
  {
   "cell_type": "code",
   "execution_count": 7,
   "id": "47c7b638-5aa4-4470-80c5-39982ceeaf8e",
   "metadata": {
    "scrolled": true
   },
   "outputs": [
    {
     "data": {
      "text/plain": [
       "[word: \"1\"\n",
       " pos: \"CD\"\n",
       " value: \"1\"\n",
       " originalText: \"1\"\n",
       " ner: \"QUANTITY\"\n",
       " coarseNER: \"QUANTITY\"\n",
       " fineGrainedNER: \"QUANTITY\"\n",
       " nerLabelProbs: \"QUANTITY=0.9999409535565039\"\n",
       " lemma: \"1\"\n",
       " beginChar: 0\n",
       " endChar: 1\n",
       " tokenBeginIndex: 0\n",
       " tokenEndIndex: 1\n",
       " hasXmlContext: false\n",
       " isNewline: false\n",
       " entityMentionIndex: 0,\n",
       " word: \"cup\"\n",
       " pos: \"NN\"\n",
       " value: \"cup\"\n",
       " originalText: \"cup\"\n",
       " ner: \"UNIT\"\n",
       " coarseNER: \"UNIT\"\n",
       " fineGrainedNER: \"UNIT\"\n",
       " nerLabelProbs: \"UNIT=0.9980774934275409\"\n",
       " lemma: \"cup\"\n",
       " beginChar: 2\n",
       " endChar: 5\n",
       " tokenBeginIndex: 1\n",
       " tokenEndIndex: 2\n",
       " hasXmlContext: false\n",
       " isNewline: false\n",
       " entityMentionIndex: 1,\n",
       " word: \"pineapple\"\n",
       " pos: \"NN\"\n",
       " value: \"pineapple\"\n",
       " originalText: \"pineapple\"\n",
       " ner: \"NAME\"\n",
       " coarseNER: \"NAME\"\n",
       " fineGrainedNER: \"NAME\"\n",
       " nerLabelProbs: \"NAME=0.9781283832531004\"\n",
       " lemma: \"pineapple\"\n",
       " beginChar: 6\n",
       " endChar: 15\n",
       " tokenBeginIndex: 2\n",
       " tokenEndIndex: 3\n",
       " hasXmlContext: false\n",
       " isNewline: false\n",
       " entityMentionIndex: 2,\n",
       " word: \"chunks\"\n",
       " pos: \"NNS\"\n",
       " value: \"chunks\"\n",
       " originalText: \"chunks\"\n",
       " ner: \"NAME\"\n",
       " coarseNER: \"NAME\"\n",
       " fineGrainedNER: \"NAME\"\n",
       " nerLabelProbs: \"NAME=0.9884207249307203\"\n",
       " lemma: \"chunk\"\n",
       " beginChar: 16\n",
       " endChar: 22\n",
       " tokenBeginIndex: 3\n",
       " tokenEndIndex: 4\n",
       " hasXmlContext: false\n",
       " isNewline: false\n",
       " entityMentionIndex: 2]"
      ]
     },
     "execution_count": 7,
     "metadata": {},
     "output_type": "execute_result"
    }
   ],
   "source": [
    "tokens = [token for sentence in annotations[0].sentence for token in sentence.token]\n",
    "tokens"
   ]
  },
  {
   "cell_type": "code",
   "execution_count": 8,
   "id": "62603f90-9d78-4ac9-b6b0-70f44d1db588",
   "metadata": {},
   "outputs": [
    {
     "name": "stdout",
     "output_type": "stream",
     "text": [
      "QUANTITY : 1\n",
      "UNIT : cup\n",
      "NAME : pineapple\n",
      "NAME : chunks\n"
     ]
    }
   ],
   "source": [
    "for t in tokens:\n",
    "    print(t.coarseNER, ':', t.word)\n",
    "# tokens=[t.word for t in tokens], ner=[t.coarseNER for t in tokens]"
   ]
  },
  {
   "cell_type": "code",
   "execution_count": null,
   "id": "72f75b05-3135-4333-a2a2-142f5fd196c3",
   "metadata": {},
   "outputs": [],
   "source": [
    "\n",
    "tokens = [token for sentence in annotation.sentence for token in sentence.token]\n",
    "    return NERData(tokens=[t.word for t in tokens], ner=[t.coarseNER for t in tokens])"
   ]
  },
  {
   "cell_type": "code",
   "execution_count": null,
   "id": "060c52f4-b91d-48f9-955f-6a6d4221f3fc",
   "metadata": {},
   "outputs": [],
   "source": [
    "annotations[2].sentence[0].token[3]"
   ]
  },
  {
   "cell_type": "code",
   "execution_count": null,
   "id": "aafd6901-ae43-471b-a753-191ec577fd52",
   "metadata": {},
   "outputs": [],
   "source": [
    "annotations[3].sentence[0].token[2]"
   ]
  },
  {
   "cell_type": "code",
   "execution_count": null,
   "id": "4d7ce0ca-f8ba-4b19-8e72-29420e968ace",
   "metadata": {},
   "outputs": [],
   "source": [
    "from dataclasses import dataclass, asdict\n",
    "import pandas as pd\n",
    "\n",
    "@dataclass\n",
    "class NERData:\n",
    "    ner: List[str]\n",
    "    tokens: List[str]\n",
    "        \n",
    "    # Let's use Pandas to make it pretty in a notebook\n",
    "    def _repr_html_(self):\n",
    "        return pd.DataFrame(asdict(self)).T._repr_html_()\n",
    "\n",
    "def extract_ner_data(annotation) -> NERData:\n",
    "    tokens = [token for sentence in annotation.sentence for token in sentence.token]\n",
    "    return NERData(tokens=[t.word for t in tokens], ner=[t.coarseNER for t in tokens])"
   ]
  },
  {
   "cell_type": "code",
   "execution_count": null,
   "id": "3fcb9922-c811-4950-8c83-c2e270b7a6b0",
   "metadata": {},
   "outputs": [],
   "source": [
    "extract_ner_data(annotations[0])"
   ]
  },
  {
   "cell_type": "code",
   "execution_count": null,
   "id": "1350a3f2-a6f5-41b3-8ff0-c39d7c0b01c6",
   "metadata": {},
   "outputs": [],
   "source": [
    "extract_ner_data(annotations[1])"
   ]
  },
  {
   "cell_type": "code",
   "execution_count": null,
   "id": "969d6ba1-78c3-4932-9858-a3e8d5dbe1ec",
   "metadata": {},
   "outputs": [],
   "source": [
    "extract_ner_data(annotations[2])"
   ]
  },
  {
   "cell_type": "code",
   "execution_count": null,
   "id": "7d17e53f-474b-4a58-af0c-65a98808d2a2",
   "metadata": {},
   "outputs": [],
   "source": [
    "extract_ner_data(annotations[3])"
   ]
  },
  {
   "cell_type": "code",
   "execution_count": null,
   "id": "61ed372a-b6ee-4ae7-a093-33e7706c0557",
   "metadata": {},
   "outputs": [],
   "source": [
    "# integrating the model with pdf2text version"
   ]
  }
 ],
 "metadata": {
  "kernelspec": {
   "display_name": "Python 3 (ipykernel)",
   "language": "python",
   "name": "python3"
  },
  "language_info": {
   "codemirror_mode": {
    "name": "ipython",
    "version": 3
   },
   "file_extension": ".py",
   "mimetype": "text/x-python",
   "name": "python",
   "nbconvert_exporter": "python",
   "pygments_lexer": "ipython3",
   "version": "3.9.2"
  }
 },
 "nbformat": 4,
 "nbformat_minor": 5
}
