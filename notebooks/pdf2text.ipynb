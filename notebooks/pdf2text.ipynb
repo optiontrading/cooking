{
 "cells": [
  {
   "cell_type": "code",
   "execution_count": 19,
   "id": "0a9dbc4a-7e99-43e9-baff-e68174295338",
   "metadata": {},
   "outputs": [
    {
     "data": {
      "text/plain": [
       "8"
      ]
     },
     "execution_count": 19,
     "metadata": {},
     "output_type": "execute_result"
    }
   ],
   "source": [
    "# count number of files\n",
    "import os\n",
    "len(os.listdir('../books'))"
   ]
  },
  {
   "cell_type": "code",
   "execution_count": 20,
   "id": "c31bc86d-ce92-425b-bd17-166a08345355",
   "metadata": {},
   "outputs": [
    {
     "name": "stdout",
     "output_type": "stream",
     "text": [
      "'1. Healt  Transformation Workshop (Subah Saraf and... (z-lib.org).pdf'\n",
      "'1. Satvic Food Book  45 Healing Recipes to Cure An... (z-lib.org)(1).pdf'\n",
      "'1. Satvic Food Book  45 Healing Recipes to Cure An... (z-lib.org)(2).pdf'\n",
      "'1. Satvic Food Book  45 Healing Recipes to Cure An... (z-lib.org).epub'\n",
      "'1. Satvic Food Book  45 Healing Recipes to Cure An... (z-lib.org).pdf'\n",
      "'1. Satvic Movement - The Food Bookl (Subah Saraf) (z-lib.org).pdf'\n",
      "'1. The Food Book - Hindi Edition (Subah Saraf) (z-lib.org).pdf'\n",
      "'Subah Saraf - Satvic Movement.pdf'\n"
     ]
    }
   ],
   "source": [
    "!ls ../books"
   ]
  },
  {
   "cell_type": "code",
   "execution_count": 21,
   "id": "ddb54262-6d41-4a51-bbdd-8d8de0f64ee4",
   "metadata": {},
   "outputs": [
    {
     "data": {
      "text/plain": [
       "['1. Healt  Transformation Workshop (Subah Saraf and... (z-lib.org).pdf',\n",
       " '1. Satvic Food Book  45 Healing Recipes to Cure An... (z-lib.org)(1).pdf',\n",
       " '1. Satvic Food Book  45 Healing Recipes to Cure An... (z-lib.org)(2).pdf',\n",
       " '1. Satvic Food Book  45 Healing Recipes to Cure An... (z-lib.org).epub',\n",
       " '1. Satvic Food Book  45 Healing Recipes to Cure An... (z-lib.org).pdf',\n",
       " '1. Satvic Movement - The Food Bookl (Subah Saraf) (z-lib.org).pdf',\n",
       " '1. The Food Book - Hindi Edition (Subah Saraf) (z-lib.org).pdf',\n",
       " 'Subah Saraf - Satvic Movement.pdf']"
      ]
     },
     "execution_count": 21,
     "metadata": {},
     "output_type": "execute_result"
    }
   ],
   "source": [
    "# read 1st file\n",
    "files_list = os.listdir('../books')\n",
    "files_list.sort()\n",
    "files_list"
   ]
  },
  {
   "cell_type": "code",
   "execution_count": 22,
   "id": "aa54a783-f34f-4439-97dd-693c1751ce07",
   "metadata": {},
   "outputs": [
    {
     "data": {
      "text/plain": [
       "'Subah Saraf - Satvic Movement.pdf'"
      ]
     },
     "execution_count": 22,
     "metadata": {},
     "output_type": "execute_result"
    }
   ],
   "source": [
    "files_loc = '../books'\n",
    "first_file = files_list[-1]\n",
    "first_file"
   ]
  },
  {
   "cell_type": "code",
   "execution_count": 23,
   "id": "5f647414-7a17-4b8c-9648-5cd80c606513",
   "metadata": {},
   "outputs": [],
   "source": [
    "# read pdf file\n",
    "import PyPDF2\n",
    "\n",
    "# creating a pdf file object\n",
    "pdfFileObj = open(files_loc + '/' + first_file, 'rb')\n",
    "\n",
    "# creating a pdf reader object\n",
    "pdfReader = PyPDF2.PdfReader(pdfFileObj)"
   ]
  },
  {
   "cell_type": "code",
   "execution_count": 24,
   "id": "dc4cd240-10ce-489b-a7ce-a2d95c7751b4",
   "metadata": {},
   "outputs": [
    {
     "name": "stdout",
     "output_type": "stream",
     "text": [
      "168\n"
     ]
    }
   ],
   "source": [
    "# printing number of pages in pdf file\n",
    "print(len(pdfReader.pages))"
   ]
  },
  {
   "cell_type": "code",
   "execution_count": 27,
   "id": "7a8f02cb-33e8-49c8-a7f5-ec4e16110956",
   "metadata": {},
   "outputs": [],
   "source": [
    "# creating a page object\n",
    "pageObj = pdfReader.pages[0]"
   ]
  },
  {
   "cell_type": "code",
   "execution_count": 28,
   "id": "7fcce506-bdcc-499f-b3a3-23821fcbf402",
   "metadata": {},
   "outputs": [
    {
     "name": "stdout",
     "output_type": "stream",
     "text": [
      "THE  \n",
      "FOOD \n",
      "BOOK\n",
      "SUBAH SARAF\n",
      "\n",
      "THE  \n",
      "FOOD \n",
      "BOOK\n",
      "SUBAH SARAF\n",
      "\n"
     ]
    }
   ],
   "source": [
    "# extracting text from page\n",
    "text = pageObj.extract_text()\n",
    "text_split = text.split()\n",
    "print(text)\n",
    "\n",
    "# preference #1\n",
    "if len(text_split) < 5:\n",
    "  print('Text rejected1')\n",
    "# preference equal #1\n",
    "elif len([token for token in text_split if token.isdigit()]) > 21:\n",
    "  print('Text rejected3')\n",
    "elif 'index' in text.lower():\n",
    "  print('Text rejected2')\n",
    "else:\n",
    "  # pass\n",
    "  print(text)\n",
    "\n",
    "# print(text.split())"
   ]
  },
  {
   "cell_type": "code",
   "execution_count": null,
   "id": "de04f8c6-6c98-4401-bd9d-5a6d3ae448df",
   "metadata": {},
   "outputs": [],
   "source": [
    "# convert pdf to text and pass it through ner model"
   ]
  },
  {
   "cell_type": "code",
   "execution_count": 29,
   "id": "19e41d0f-cab9-46e3-a2fe-f91af900bcd0",
   "metadata": {},
   "outputs": [],
   "source": [
    "import stanza\n",
    "# stanza.install_corenlp()"
   ]
  },
  {
   "cell_type": "code",
   "execution_count": 30,
   "id": "518c0bfc-8b7a-4e6b-b15f-1391b49d195c",
   "metadata": {},
   "outputs": [
    {
     "data": {
      "text/plain": [
       "'/home/himani/stanza_corenlp/stanford-corenlp-4.5.5.jar'"
      ]
     },
     "execution_count": 30,
     "metadata": {},
     "output_type": "execute_result"
    }
   ],
   "source": [
    "import os\n",
    "import re\n",
    "from pathlib import Path\n",
    "\n",
    "# Reimplement the logic to find the path where stanza_corenlp is installed.\n",
    "core_nlp_path = os.getenv('CORENLP_HOME', str(Path.home() / 'stanza_corenlp'))\n",
    "\n",
    "# A heuristic to find the right jar file\n",
    "classpath = [str(p) for p in Path(core_nlp_path).iterdir() if re.match(r\"stanford-corenlp-[0-9.]+\\.jar\", p.name)][0]\n",
    "classpath"
   ]
  },
  {
   "cell_type": "code",
   "execution_count": 31,
   "id": "2beafeb2-9890-4e5a-a42b-1ec44271a905",
   "metadata": {},
   "outputs": [],
   "source": [
    "from typing import List, Tuple, Generator\n",
    "from tqdm.notebook import tqdm\n",
    "from stanza.server import CoreNLPClient\n",
    "\n",
    "def annotate_ner(ner_model_file: str, texts: List[str], tokenize_whitespace: bool = True):\n",
    "    properties = {\"ner.model\": ner_model_file, \"tokenize.whitespace\": tokenize_whitespace, \"ner.applyNumericClassifiers\": False}\n",
    "    \n",
    "    annotated = []\n",
    "    with CoreNLPClient(\n",
    "         annotators=['tokenize','ssplit','ner'],\n",
    "         properties=properties,\n",
    "         timeout=30000,\n",
    "         be_quiet=True,\n",
    "        memory='6G') as client:\n",
    "    \n",
    "        for text in tqdm(texts):\n",
    "            annotated.append(client.annotate(text))\n",
    "    return annotated"
   ]
  },
  {
   "cell_type": "code",
   "execution_count": 32,
   "id": "5393b5e3-ffdb-42f3-bc9d-f5a6347ca487",
   "metadata": {},
   "outputs": [],
   "source": [
    "# load model\n",
    "model_name = 'ar'\n",
    "model_file = f'{model_name}.model.ser.gz'\n",
    "ner_prop_filename = f'{model_name}.model.props'"
   ]
  },
  {
   "cell_type": "code",
   "execution_count": 33,
   "id": "fb890599-d5e8-4d51-9918-025e5a21229c",
   "metadata": {},
   "outputs": [
    {
     "name": "stderr",
     "output_type": "stream",
     "text": [
      "2023-09-22 06:18:00 INFO: Writing properties to tmp file: corenlp_server-85e1da8465ed4d55.props\n",
      "2023-09-22 06:18:00 INFO: Starting server with command: java -Xmx6G -cp /home/himani/stanza_corenlp/* edu.stanford.nlp.pipeline.StanfordCoreNLPServer -port 9000 -timeout 30000 -threads 5 -maxCharLength 100000 -quiet True -serverProperties corenlp_server-85e1da8465ed4d55.props -annotators tokenize,ssplit,ner -preload -outputFormat serialized\n"
     ]
    },
    {
     "data": {
      "application/vnd.jupyter.widget-view+json": {
       "model_id": "de42459581a84202bed9d60302e6c3a4",
       "version_major": 2,
       "version_minor": 0
      },
      "text/plain": [
       "  0%|          | 0/1 [00:00<?, ?it/s]"
      ]
     },
     "metadata": {},
     "output_type": "display_data"
    }
   ],
   "source": [
    "annotations = annotate_ner(model_file,\n",
    "                           [text])"
   ]
  },
  {
   "cell_type": "code",
   "execution_count": 35,
   "id": "4e0c6bce-5e81-46ba-95a2-bc5709f50303",
   "metadata": {},
   "outputs": [
    {
     "data": {
      "text/plain": [
       "word: \"SUBAH\"\n",
       "pos: \"NNP\"\n",
       "value: \"SUBAH\"\n",
       "originalText: \"SUBAH\"\n",
       "ner: \"NAME\"\n",
       "coarseNER: \"NAME\"\n",
       "fineGrainedNER: \"NAME\"\n",
       "nerLabelProbs: \"NAME=0.7447941399422754\"\n",
       "lemma: \"SUBAH\"\n",
       "beginChar: 17\n",
       "endChar: 22\n",
       "tokenBeginIndex: 3\n",
       "tokenEndIndex: 4\n",
       "hasXmlContext: false\n",
       "isNewline: false\n",
       "entityMentionIndex: 1"
      ]
     },
     "execution_count": 35,
     "metadata": {},
     "output_type": "execute_result"
    }
   ],
   "source": [
    "annotations[0].sentence[0].token[3]"
   ]
  },
  {
   "cell_type": "code",
   "execution_count": 36,
   "id": "34a1d306-f375-43f0-b742-d52b31600158",
   "metadata": {},
   "outputs": [],
   "source": [
    "from dataclasses import dataclass, asdict\n",
    "import pandas as pd\n",
    "\n",
    "@dataclass\n",
    "class NERData:\n",
    "    ner: List[str]\n",
    "    tokens: List[str]\n",
    "        \n",
    "    # Let's use Pandas to make it pretty in a notebook\n",
    "    def _repr_html_(self):\n",
    "        return pd.DataFrame(asdict(self)).T._repr_html_()\n",
    "\n",
    "def extract_ner_data(annotation) -> NERData:\n",
    "    tokens = [token for sentence in annotation.sentence for token in sentence.token]\n",
    "    return NERData(tokens=[t.word for t in tokens], ner=[t.coarseNER for t in tokens])"
   ]
  },
  {
   "cell_type": "code",
   "execution_count": 37,
   "id": "eff0672e-bac1-4c6a-aaed-41eac1a72274",
   "metadata": {},
   "outputs": [
    {
     "data": {
      "text/html": [
       "<div>\n",
       "<style scoped>\n",
       "    .dataframe tbody tr th:only-of-type {\n",
       "        vertical-align: middle;\n",
       "    }\n",
       "\n",
       "    .dataframe tbody tr th {\n",
       "        vertical-align: top;\n",
       "    }\n",
       "\n",
       "    .dataframe thead th {\n",
       "        text-align: right;\n",
       "    }\n",
       "</style>\n",
       "<table border=\"1\" class=\"dataframe\">\n",
       "  <thead>\n",
       "    <tr style=\"text-align: right;\">\n",
       "      <th></th>\n",
       "      <th>0</th>\n",
       "      <th>1</th>\n",
       "      <th>2</th>\n",
       "      <th>3</th>\n",
       "      <th>4</th>\n",
       "    </tr>\n",
       "  </thead>\n",
       "  <tbody>\n",
       "    <tr>\n",
       "      <th>ner</th>\n",
       "      <td>QUANTITY</td>\n",
       "      <td>NAME</td>\n",
       "      <td>NAME</td>\n",
       "      <td>NAME</td>\n",
       "      <td>NAME</td>\n",
       "    </tr>\n",
       "    <tr>\n",
       "      <th>tokens</th>\n",
       "      <td>THE</td>\n",
       "      <td>FOOD</td>\n",
       "      <td>BOOK</td>\n",
       "      <td>SUBAH</td>\n",
       "      <td>SARAF</td>\n",
       "    </tr>\n",
       "  </tbody>\n",
       "</table>\n",
       "</div>"
      ],
      "text/plain": [
       "NERData(ner=['QUANTITY', 'NAME', 'NAME', 'NAME', 'NAME'], tokens=['THE', 'FOOD', 'BOOK', 'SUBAH', 'SARAF'])"
      ]
     },
     "execution_count": 37,
     "metadata": {},
     "output_type": "execute_result"
    }
   ],
   "source": [
    "extract_ner_data(annotations[0])"
   ]
  },
  {
   "cell_type": "code",
   "execution_count": null,
   "id": "e12fc16e-4c35-4174-b234-784848b7c64d",
   "metadata": {},
   "outputs": [],
   "source": []
  }
 ],
 "metadata": {
  "kernelspec": {
   "display_name": "Python 3 (ipykernel)",
   "language": "python",
   "name": "python3"
  },
  "language_info": {
   "codemirror_mode": {
    "name": "ipython",
    "version": 3
   },
   "file_extension": ".py",
   "mimetype": "text/x-python",
   "name": "python",
   "nbconvert_exporter": "python",
   "pygments_lexer": "ipython3",
   "version": "3.9.2"
  }
 },
 "nbformat": 4,
 "nbformat_minor": 5
}
