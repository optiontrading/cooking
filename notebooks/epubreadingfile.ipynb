{
 "cells": [
  {
   "cell_type": "code",
   "execution_count": null,
   "id": "b7713c9e-0e81-4bcc-a55f-ecd7cfe25f4f",
   "metadata": {},
   "outputs": [],
   "source": [
    "# https://andrew-muller.medium.com/getting-text-from-epub-files-in-python-fbfe5df5c2da"
   ]
  },
  {
   "cell_type": "code",
   "execution_count": 2,
   "id": "35155c07-73ef-4501-bcc1-3f6a349de8ca",
   "metadata": {},
   "outputs": [
    {
     "name": "stdout",
     "output_type": "stream",
     "text": [
      "Collecting ebooklib\n",
      "  Downloading EbookLib-0.18.tar.gz (115 kB)\n",
      "\u001b[K     |████████████████████████████████| 115 kB 7.2 MB/s eta 0:00:01\n",
      "\u001b[?25hCollecting lxml\n",
      "  Downloading lxml-4.9.3-cp39-cp39-manylinux_2_28_x86_64.whl (8.0 MB)\n",
      "\u001b[K     |████████████████████████████████| 8.0 MB 49.6 MB/s eta 0:00:01\n",
      "\u001b[?25hRequirement already satisfied: six in /home/himani/cooking/venv/lib/python3.9/site-packages (from ebooklib) (1.16.0)\n",
      "Building wheels for collected packages: ebooklib\n",
      "  Building wheel for ebooklib (setup.py) ... \u001b[?25ldone\n",
      "\u001b[?25h  Created wheel for ebooklib: filename=EbookLib-0.18-py3-none-any.whl size=38775 sha256=b5f665ecaf6a6918c3f2d74765c5b87e33c288b7d07de5db60168e04df23060b\n",
      "  Stored in directory: /home/himani/.cache/pip/wheels/47/3a/ec/289c2f96d54695a17d260684be304d20a8d0bf50b08b75862e\n",
      "Successfully built ebooklib\n",
      "Installing collected packages: lxml, ebooklib\n",
      "Successfully installed ebooklib-0.18 lxml-4.9.3\n"
     ]
    }
   ],
   "source": [
    "!pip install ebooklib"
   ]
  },
  {
   "cell_type": "code",
   "execution_count": 6,
   "id": "ec77b94e-081f-4ee1-9f93-ac95c4ec3914",
   "metadata": {},
   "outputs": [
    {
     "name": "stdout",
     "output_type": "stream",
     "text": [
      "satvic_food_book_3.pdf\tsatvic_food_book_4.epub\n"
     ]
    }
   ],
   "source": [
    "!ls ../data/check_duplicates2"
   ]
  },
  {
   "cell_type": "code",
   "execution_count": 7,
   "id": "57508859-6b6e-490c-b5db-7ce2aca65ebc",
   "metadata": {},
   "outputs": [
    {
     "name": "stderr",
     "output_type": "stream",
     "text": [
      "/home/himani/cooking/venv/lib/python3.9/site-packages/ebooklib/epub.py:1395: UserWarning: In the future version we will turn default option ignore_ncx to True.\n",
      "  warnings.warn('In the future version we will turn default option ignore_ncx to True.')\n"
     ]
    }
   ],
   "source": [
    "import ebooklib\n",
    "from ebooklib import epub\n",
    "\n",
    "file_name = '../data/check_duplicates2/satvic_food_book_4.epub'\n",
    "\n",
    "book = epub.read_epub(file_name)\n",
    "items = list(book.get_items_of_type(ebooklib.ITEM_DOCUMENT))"
   ]
  },
  {
   "cell_type": "code",
   "execution_count": 13,
   "id": "850b45db-33f2-4955-bb7c-0ff14e855aa1",
   "metadata": {},
   "outputs": [
    {
     "data": {
      "text/plain": [
       "[<ebooklib.epub.EpubHtml at 0x7f32245c1700>,\n",
       " <ebooklib.epub.EpubHtml at 0x7f32245c16d0>,\n",
       " <ebooklib.epub.EpubHtml at 0x7f32245c1730>,\n",
       " <ebooklib.epub.EpubHtml at 0x7f32245c16a0>]"
      ]
     },
     "execution_count": 13,
     "metadata": {},
     "output_type": "execute_result"
    }
   ],
   "source": [
    "items"
   ]
  },
  {
   "cell_type": "code",
   "execution_count": 14,
   "id": "7dff0feb-b1b3-418d-ae48-2ee22314978b",
   "metadata": {},
   "outputs": [],
   "source": [
    "from bs4 import BeautifulSoup\n",
    "def chapter_to_str(chapter):\n",
    "    soup = BeautifulSoup(chapter.get_body_content(), 'html.parser')\n",
    "    text = [para.get_text() for para in soup.find_all('p')]\n",
    "    return ' '.join(text)\n",
    "\n",
    "texts = {}\n",
    "for c in items:\n",
    "    texts[c.get_name()] = chapter_to_str(c)"
   ]
  },
  {
   "cell_type": "code",
   "execution_count": 16,
   "id": "25f27309-2173-4593-88ca-a80fbd0fbc89",
   "metadata": {},
   "outputs": [
    {
     "data": {
      "text/plain": [
       "dict_keys(['titlepage.xhtml', 'index_split_000.html', 'index_split_001.html', 'index_split_002.html'])"
      ]
     },
     "execution_count": 16,
     "metadata": {},
     "output_type": "execute_result"
    }
   ],
   "source": [
    "texts.keys()"
   ]
  },
  {
   "cell_type": "code",
   "execution_count": 20,
   "id": "42734446-3f8c-4846-8ca1-e83c4d1e8896",
   "metadata": {},
   "outputs": [
    {
     "data": {
      "text/plain": [
       "''"
      ]
     },
     "execution_count": 20,
     "metadata": {},
     "output_type": "execute_result"
    }
   ],
   "source": [
    "texts['titlepage.xhtml']"
   ]
  },
  {
   "cell_type": "code",
   "execution_count": 23,
   "id": "f0272207-aa9b-4b37-873d-8fce1b45ad51",
   "metadata": {},
   "outputs": [
    {
     "data": {
      "text/plain": [
       "''"
      ]
     },
     "execution_count": 23,
     "metadata": {},
     "output_type": "execute_result"
    }
   ],
   "source": [
    "texts['index_split_002.html']"
   ]
  },
  {
   "cell_type": "code",
   "execution_count": null,
   "id": "92832616-b84b-4fde-bd5d-d961ddcd6fa8",
   "metadata": {},
   "outputs": [],
   "source": []
  }
 ],
 "metadata": {
  "kernelspec": {
   "display_name": "Python 3 (ipykernel)",
   "language": "python",
   "name": "python3"
  },
  "language_info": {
   "codemirror_mode": {
    "name": "ipython",
    "version": 3
   },
   "file_extension": ".py",
   "mimetype": "text/x-python",
   "name": "python",
   "nbconvert_exporter": "python",
   "pygments_lexer": "ipython3",
   "version": "3.9.2"
  }
 },
 "nbformat": 4,
 "nbformat_minor": 5
}
