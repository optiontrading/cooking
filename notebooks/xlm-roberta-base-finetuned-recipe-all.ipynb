{
 "cells": [
  {
   "cell_type": "code",
   "execution_count": 1,
   "id": "3e56cf32-8071-422b-941e-83a217812451",
   "metadata": {},
   "outputs": [],
   "source": [
    "# todo : fetch text \n",
    "# todo : explore each model through text"
   ]
  },
  {
   "cell_type": "code",
   "execution_count": 2,
   "id": "caa47f5e-cb3b-4934-8ba6-7a7e50ea6ab8",
   "metadata": {},
   "outputs": [
    {
     "data": {
      "text/plain": [
       "['1. Healt  Transformation Workshop (Subah Saraf and... (z-lib.org).pdf',\n",
       " '1. Satvic Food Book  45 Healing Recipes to Cure An... (z-lib.org)(1).pdf',\n",
       " '1. Satvic Food Book  45 Healing Recipes to Cure An... (z-lib.org)(2).pdf',\n",
       " '1. Satvic Food Book  45 Healing Recipes to Cure An... (z-lib.org).epub',\n",
       " '1. Satvic Food Book  45 Healing Recipes to Cure An... (z-lib.org).pdf',\n",
       " '1. Satvic Movement - The Food Bookl (Subah Saraf) (z-lib.org).pdf',\n",
       " '1. The Food Book - Hindi Edition (Subah Saraf) (z-lib.org).pdf',\n",
       " 'Subah Saraf - Satvic Movement.pdf']"
      ]
     },
     "execution_count": 2,
     "metadata": {},
     "output_type": "execute_result"
    }
   ],
   "source": [
    "# text from pdf\n",
    "# read 1st file\n",
    "import os\n",
    "\n",
    "files_list = os.listdir('../books')\n",
    "files_list.sort()\n",
    "files_list"
   ]
  },
  {
   "cell_type": "code",
   "execution_count": 3,
   "id": "d1b0cb51-74d2-4cab-9c67-9d003d8f346b",
   "metadata": {},
   "outputs": [
    {
     "data": {
      "text/plain": [
       "'Subah Saraf - Satvic Movement.pdf'"
      ]
     },
     "execution_count": 3,
     "metadata": {},
     "output_type": "execute_result"
    }
   ],
   "source": [
    "files_loc = '../books'\n",
    "first_file = files_list[-1]\n",
    "first_file"
   ]
  },
  {
   "cell_type": "code",
   "execution_count": 4,
   "id": "20810bdf-c54c-477a-9e62-17b151b73aee",
   "metadata": {},
   "outputs": [],
   "source": [
    "# read pdf file\n",
    "import PyPDF2\n",
    "\n",
    "# creating a pdf file object\n",
    "pdfFileObj = open(files_loc + '/' + first_file, 'rb')\n",
    "\n",
    "# creating a pdf reader object\n",
    "pdfReader = PyPDF2.PdfReader(pdfFileObj)"
   ]
  },
  {
   "cell_type": "code",
   "execution_count": 5,
   "id": "b9f31205-5423-4110-96cf-b325fbd572c8",
   "metadata": {},
   "outputs": [
    {
     "name": "stdout",
     "output_type": "stream",
     "text": [
      "168\n"
     ]
    }
   ],
   "source": [
    "# printing number of pages in pdf file\n",
    "print(len(pdfReader.pages))"
   ]
  },
  {
   "cell_type": "code",
   "execution_count": 6,
   "id": "31ddd3d8-5941-4c75-97a7-3c1ee5f346e8",
   "metadata": {},
   "outputs": [],
   "source": [
    "# creating a page object\n",
    "pageObj = pdfReader.pages[71]"
   ]
  },
  {
   "cell_type": "code",
   "execution_count": 7,
   "id": "8638fa8b-4b03-4a15-bef4-df8201eb0e11",
   "metadata": {},
   "outputs": [
    {
     "name": "stdout",
     "output_type": "stream",
     "text": [
      "PIÑA COLADA SMOOTHIE\n",
      "INGREDIENTS  \n",
      "SERVES 1, MAKES 500 ML\n",
      "• 1 cup pineapple chunks\n",
      "• 1 cup coconut milk\n",
      "• ½ medium banana\n",
      "• ¼ cup ice cubes\n",
      "• 2 dates, seedless\n",
      "• ⅛ teaspoon vanilla bean powder (optional)\n",
      "METHOD\n",
      "1. Place everything into a blender and blend until smooth. \n",
      "Serve.SMOOTHIES\n",
      "Occasionally, you may replace your fruit bowls with a smoothie. A smoothie with \n",
      "banana, coconut milk or dry fruits is heavier to digest than eating fruits alone. Hence, \n",
      "we suggest having it only occasionally in the healing stage. For those who are doing \n",
      "vigorous exercise and for children, it is quite good. To build a delicious smoothie, you \n",
      "need 4 components- \n",
      "1. Liquid component - Coconut milk, coconut water, watery fruits or drinking water\n",
      "2. Base - Any fruit or vegetable such as banana, pear, melon, papaya, beetroot, \n",
      "carrots, spinach, lettuce, etc.\n",
      "3. Sweetener - Sweet fruits such as mangoes, banana or dates. \n",
      "4. Flavor - Herbs such as mint or basil, carob powder, cacao powder, vanilla powder, \n",
      "ginger, etc.  \n",
      "4th option\n",
      "\n"
     ]
    }
   ],
   "source": [
    "# extracting text from page\n",
    "text = pageObj.extract_text()\n",
    "print(text)"
   ]
  },
  {
   "cell_type": "code",
   "execution_count": 8,
   "id": "a835387c-7873-4a43-adeb-ce32935d6140",
   "metadata": {},
   "outputs": [],
   "source": [
    "# load model"
   ]
  },
  {
   "cell_type": "code",
   "execution_count": 9,
   "id": "637b9015-36f6-47d7-b6f8-3ee36fa50cc5",
   "metadata": {},
   "outputs": [
    {
     "name": "stdout",
     "output_type": "stream",
     "text": [
      "Requirement already satisfied: datasets==1.18.4 in /home/himani/cooking/venv/lib/python3.9/site-packages (1.18.4)\n",
      "Requirement already satisfied: fsspec[http]>=2021.05.0 in /home/himani/cooking/venv/lib/python3.9/site-packages (from datasets==1.18.4) (2023.9.2)\n",
      "Requirement already satisfied: responses<0.19 in /home/himani/cooking/venv/lib/python3.9/site-packages (from datasets==1.18.4) (0.18.0)\n",
      "Requirement already satisfied: pandas in /home/himani/cooking/venv/lib/python3.9/site-packages (from datasets==1.18.4) (2.1.1)\n",
      "Requirement already satisfied: numpy>=1.17 in /home/himani/cooking/venv/lib/python3.9/site-packages (from datasets==1.18.4) (1.26.0)\n",
      "Requirement already satisfied: dill in /home/himani/cooking/venv/lib/python3.9/site-packages (from datasets==1.18.4) (0.3.7)\n",
      "Requirement already satisfied: xxhash in /home/himani/cooking/venv/lib/python3.9/site-packages (from datasets==1.18.4) (3.3.0)\n",
      "Requirement already satisfied: aiohttp in /home/himani/cooking/venv/lib/python3.9/site-packages (from datasets==1.18.4) (3.8.5)\n",
      "Requirement already satisfied: tqdm>=4.62.1 in /home/himani/cooking/venv/lib/python3.9/site-packages (from datasets==1.18.4) (4.66.1)\n",
      "Requirement already satisfied: requests>=2.19.0 in /home/himani/cooking/venv/lib/python3.9/site-packages (from datasets==1.18.4) (2.31.0)\n",
      "Requirement already satisfied: huggingface-hub<1.0.0,>=0.1.0 in /home/himani/cooking/venv/lib/python3.9/site-packages (from datasets==1.18.4) (0.16.4)\n",
      "Requirement already satisfied: packaging in /home/himani/cooking/venv/lib/python3.9/site-packages (from datasets==1.18.4) (23.1)\n",
      "Requirement already satisfied: pyarrow!=4.0.0,>=3.0.0 in /home/himani/cooking/venv/lib/python3.9/site-packages (from datasets==1.18.4) (13.0.0)\n",
      "Requirement already satisfied: multiprocess in /home/himani/cooking/venv/lib/python3.9/site-packages (from datasets==1.18.4) (0.70.15)\n",
      "Requirement already satisfied: yarl<2.0,>=1.0 in /home/himani/cooking/venv/lib/python3.9/site-packages (from aiohttp->datasets==1.18.4) (1.9.2)\n",
      "Requirement already satisfied: aiosignal>=1.1.2 in /home/himani/cooking/venv/lib/python3.9/site-packages (from aiohttp->datasets==1.18.4) (1.3.1)\n",
      "Requirement already satisfied: frozenlist>=1.1.1 in /home/himani/cooking/venv/lib/python3.9/site-packages (from aiohttp->datasets==1.18.4) (1.4.0)\n",
      "Requirement already satisfied: async-timeout<5.0,>=4.0.0a3 in /home/himani/cooking/venv/lib/python3.9/site-packages (from aiohttp->datasets==1.18.4) (4.0.3)\n",
      "Requirement already satisfied: attrs>=17.3.0 in /home/himani/cooking/venv/lib/python3.9/site-packages (from aiohttp->datasets==1.18.4) (23.1.0)\n",
      "Requirement already satisfied: multidict<7.0,>=4.5 in /home/himani/cooking/venv/lib/python3.9/site-packages (from aiohttp->datasets==1.18.4) (6.0.4)\n",
      "Requirement already satisfied: charset-normalizer<4.0,>=2.0 in /home/himani/cooking/venv/lib/python3.9/site-packages (from aiohttp->datasets==1.18.4) (3.2.0)\n",
      "Requirement already satisfied: filelock in /home/himani/cooking/venv/lib/python3.9/site-packages (from huggingface-hub<1.0.0,>=0.1.0->datasets==1.18.4) (3.12.4)\n",
      "Requirement already satisfied: typing-extensions>=3.7.4.3 in /home/himani/cooking/venv/lib/python3.9/site-packages (from huggingface-hub<1.0.0,>=0.1.0->datasets==1.18.4) (4.7.1)\n",
      "Requirement already satisfied: pyyaml>=5.1 in /home/himani/cooking/venv/lib/python3.9/site-packages (from huggingface-hub<1.0.0,>=0.1.0->datasets==1.18.4) (6.0.1)\n",
      "Requirement already satisfied: idna<4,>=2.5 in /home/himani/cooking/venv/lib/python3.9/site-packages (from requests>=2.19.0->datasets==1.18.4) (3.4)\n",
      "Requirement already satisfied: certifi>=2017.4.17 in /home/himani/cooking/venv/lib/python3.9/site-packages (from requests>=2.19.0->datasets==1.18.4) (2023.7.22)\n",
      "Requirement already satisfied: urllib3<3,>=1.21.1 in /home/himani/cooking/venv/lib/python3.9/site-packages (from requests>=2.19.0->datasets==1.18.4) (1.26.16)\n",
      "Requirement already satisfied: python-dateutil>=2.8.2 in /home/himani/cooking/venv/lib/python3.9/site-packages (from pandas->datasets==1.18.4) (2.8.2)\n",
      "Requirement already satisfied: pytz>=2020.1 in /home/himani/cooking/venv/lib/python3.9/site-packages (from pandas->datasets==1.18.4) (2023.3.post1)\n",
      "Requirement already satisfied: tzdata>=2022.1 in /home/himani/cooking/venv/lib/python3.9/site-packages (from pandas->datasets==1.18.4) (2023.3)\n",
      "Requirement already satisfied: six>=1.5 in /home/himani/cooking/venv/lib/python3.9/site-packages (from python-dateutil>=2.8.2->pandas->datasets==1.18.4) (1.16.0)\n"
     ]
    }
   ],
   "source": [
    "!pip install datasets==1.18.4"
   ]
  },
  {
   "cell_type": "code",
   "execution_count": 10,
   "id": "92e95a99-9208-47a9-98bc-c8bc5660dd0e",
   "metadata": {},
   "outputs": [
    {
     "name": "stdout",
     "output_type": "stream",
     "text": [
      "Requirement already satisfied: transformers==4.16.2 in /home/himani/cooking/venv/lib/python3.9/site-packages (4.16.2)\n",
      "Requirement already satisfied: packaging>=20.0 in /home/himani/cooking/venv/lib/python3.9/site-packages (from transformers==4.16.2) (23.1)\n",
      "Requirement already satisfied: regex!=2019.12.17 in /home/himani/cooking/venv/lib/python3.9/site-packages (from transformers==4.16.2) (2023.8.8)\n",
      "Requirement already satisfied: requests in /home/himani/cooking/venv/lib/python3.9/site-packages (from transformers==4.16.2) (2.31.0)\n",
      "Requirement already satisfied: tqdm>=4.27 in /home/himani/cooking/venv/lib/python3.9/site-packages (from transformers==4.16.2) (4.66.1)\n",
      "Requirement already satisfied: numpy>=1.17 in /home/himani/cooking/venv/lib/python3.9/site-packages (from transformers==4.16.2) (1.26.0)\n",
      "Requirement already satisfied: sacremoses in /home/himani/cooking/venv/lib/python3.9/site-packages (from transformers==4.16.2) (0.0.53)\n",
      "Requirement already satisfied: filelock in /home/himani/cooking/venv/lib/python3.9/site-packages (from transformers==4.16.2) (3.12.4)\n",
      "Requirement already satisfied: pyyaml>=5.1 in /home/himani/cooking/venv/lib/python3.9/site-packages (from transformers==4.16.2) (6.0.1)\n",
      "Requirement already satisfied: huggingface-hub<1.0,>=0.1.0 in /home/himani/cooking/venv/lib/python3.9/site-packages (from transformers==4.16.2) (0.16.4)\n",
      "Requirement already satisfied: tokenizers!=0.11.3,>=0.10.1 in /home/himani/cooking/venv/lib/python3.9/site-packages (from transformers==4.16.2) (0.11.6)\n",
      "Requirement already satisfied: fsspec in /home/himani/cooking/venv/lib/python3.9/site-packages (from huggingface-hub<1.0,>=0.1.0->transformers==4.16.2) (2023.9.2)\n",
      "Requirement already satisfied: typing-extensions>=3.7.4.3 in /home/himani/cooking/venv/lib/python3.9/site-packages (from huggingface-hub<1.0,>=0.1.0->transformers==4.16.2) (4.7.1)\n",
      "Requirement already satisfied: idna<4,>=2.5 in /home/himani/cooking/venv/lib/python3.9/site-packages (from requests->transformers==4.16.2) (3.4)\n",
      "Requirement already satisfied: certifi>=2017.4.17 in /home/himani/cooking/venv/lib/python3.9/site-packages (from requests->transformers==4.16.2) (2023.7.22)\n",
      "Requirement already satisfied: urllib3<3,>=1.21.1 in /home/himani/cooking/venv/lib/python3.9/site-packages (from requests->transformers==4.16.2) (1.26.16)\n",
      "Requirement already satisfied: charset-normalizer<4,>=2 in /home/himani/cooking/venv/lib/python3.9/site-packages (from requests->transformers==4.16.2) (3.2.0)\n",
      "Requirement already satisfied: six in /home/himani/cooking/venv/lib/python3.9/site-packages (from sacremoses->transformers==4.16.2) (1.16.0)\n",
      "Requirement already satisfied: joblib in /home/himani/cooking/venv/lib/python3.9/site-packages (from sacremoses->transformers==4.16.2) (1.3.2)\n",
      "Requirement already satisfied: click in /home/himani/cooking/venv/lib/python3.9/site-packages (from sacremoses->transformers==4.16.2) (8.1.7)\n"
     ]
    }
   ],
   "source": [
    "!pip install transformers==4.16.2"
   ]
  },
  {
   "cell_type": "code",
   "execution_count": 11,
   "id": "b4d250e0-dca1-4604-b8be-158290f0cbbb",
   "metadata": {},
   "outputs": [
    {
     "name": "stdout",
     "output_type": "stream",
     "text": [
      "Requirement already satisfied: tokenizers==0.11.6 in /home/himani/cooking/venv/lib/python3.9/site-packages (0.11.6)\n"
     ]
    }
   ],
   "source": [
    "!pip install tokenizers==0.11.6"
   ]
  },
  {
   "cell_type": "code",
   "execution_count": 12,
   "id": "b3f2fea9-c8d1-4ca2-8abe-e3f90b0e4a8f",
   "metadata": {},
   "outputs": [
    {
     "name": "stdout",
     "output_type": "stream",
     "text": [
      "Collecting torch==1.9.1\n",
      "  Using cached torch-1.9.1-cp39-cp39-manylinux1_x86_64.whl (831.4 MB)\n",
      "Requirement already satisfied: typing-extensions in /home/himani/cooking/venv/lib/python3.9/site-packages (from torch==1.9.1) (4.7.1)\n",
      "Installing collected packages: torch\n",
      "  Attempting uninstall: torch\n",
      "    Found existing installation: torch 2.0.1\n",
      "    Uninstalling torch-2.0.1:\n",
      "      Successfully uninstalled torch-2.0.1\n",
      "Successfully installed torch-1.9.1\n"
     ]
    }
   ],
   "source": [
    "!pip install torch==1.9.1"
   ]
  },
  {
   "cell_type": "code",
   "execution_count": 1,
   "id": "7b996ccb-5403-488e-b181-b332d7c8201e",
   "metadata": {},
   "outputs": [
    {
     "data": {
      "application/vnd.jupyter.widget-view+json": {
       "model_id": "560637aaa00148c590c888d63a55e715",
       "version_major": 2,
       "version_minor": 0
      },
      "text/plain": [
       "Downloading:   0%|          | 0.00/1.02k [00:00<?, ?B/s]"
      ]
     },
     "metadata": {},
     "output_type": "display_data"
    },
    {
     "data": {
      "application/vnd.jupyter.widget-view+json": {
       "model_id": "9e9c1a47f26f4480b893241b751dd922",
       "version_major": 2,
       "version_minor": 0
      },
      "text/plain": [
       "Downloading:   0%|          | 0.00/1.03G [00:00<?, ?B/s]"
      ]
     },
     "metadata": {},
     "output_type": "display_data"
    },
    {
     "data": {
      "application/vnd.jupyter.widget-view+json": {
       "model_id": "3399137b5b594f828018c7f5121ce7b4",
       "version_major": 2,
       "version_minor": 0
      },
      "text/plain": [
       "Downloading:   0%|          | 0.00/398 [00:00<?, ?B/s]"
      ]
     },
     "metadata": {},
     "output_type": "display_data"
    },
    {
     "data": {
      "application/vnd.jupyter.widget-view+json": {
       "model_id": "e6b7cd08969f4fa8b78902f256c5f35b",
       "version_major": 2,
       "version_minor": 0
      },
      "text/plain": [
       "Downloading:   0%|          | 0.00/4.83M [00:00<?, ?B/s]"
      ]
     },
     "metadata": {},
     "output_type": "display_data"
    },
    {
     "data": {
      "application/vnd.jupyter.widget-view+json": {
       "model_id": "50f6e7d59b8840a98139f1e6400915a1",
       "version_major": 2,
       "version_minor": 0
      },
      "text/plain": [
       "Downloading:   0%|          | 0.00/16.3M [00:00<?, ?B/s]"
      ]
     },
     "metadata": {},
     "output_type": "display_data"
    },
    {
     "data": {
      "application/vnd.jupyter.widget-view+json": {
       "model_id": "31260da5295844c4849047559b2a2c9a",
       "version_major": 2,
       "version_minor": 0
      },
      "text/plain": [
       "Downloading:   0%|          | 0.00/239 [00:00<?, ?B/s]"
      ]
     },
     "metadata": {},
     "output_type": "display_data"
    }
   ],
   "source": [
    "# Use a pipeline as a high-level helper\n",
    "from transformers import pipeline\n",
    "\n",
    "pipe = pipeline(\"token-classification\", model=\"edwardjross/xlm-roberta-base-finetuned-recipe-all\")"
   ]
  },
  {
   "cell_type": "code",
   "execution_count": 2,
   "id": "d630bff7-7bb2-4164-9a9e-b453a74fbc69",
   "metadata": {},
   "outputs": [],
   "source": [
    "# Load model directly\n",
    "from transformers import AutoTokenizer, AutoModelForTokenClassification\n",
    "\n",
    "tokenizer = AutoTokenizer.from_pretrained(\"edwardjross/xlm-roberta-base-finetuned-recipe-all\")\n",
    "model = AutoModelForTokenClassification.from_pretrained(\"edwardjross/xlm-roberta-base-finetuned-recipe-all\")"
   ]
  },
  {
   "cell_type": "code",
   "execution_count": 3,
   "id": "e1c0c24a-a195-4a63-b340-a0743bbda744",
   "metadata": {
    "scrolled": true
   },
   "outputs": [
    {
     "name": "stderr",
     "output_type": "stream",
     "text": [
      "/home/himani/cooking/venv/lib/python3.9/site-packages/transformers/pipelines/token_classification.py:135: UserWarning: `grouped_entities` is deprecated and will be removed in version v5.0.0, defaulted to `aggregation_strategy=\"AggregationStrategy.SIMPLE\"` instead.\n",
      "  warnings.warn(\n"
     ]
    },
    {
     "data": {
      "text/plain": [
       "[{'entity_group': 'QUANTITY',\n",
       "  'score': 0.99991477,\n",
       "  'word': '1/2',\n",
       "  'start': 0,\n",
       "  'end': 3},\n",
       " {'entity_group': 'UNIT',\n",
       "  'score': 0.9992793,\n",
       "  'word': 'teaspoon',\n",
       "  'start': 4,\n",
       "  'end': 12},\n",
       " {'entity_group': 'DF',\n",
       "  'score': 0.99961686,\n",
       "  'word': 'fresh',\n",
       "  'start': 13,\n",
       "  'end': 18},\n",
       " {'entity_group': 'NAME',\n",
       "  'score': 0.98718303,\n",
       "  'word': 'thyme',\n",
       "  'start': 19,\n",
       "  'end': 24},\n",
       " {'entity_group': 'STATE',\n",
       "  'score': 0.9391806,\n",
       "  'word': 'minced',\n",
       "  'start': 26,\n",
       "  'end': 32}]"
      ]
     },
     "execution_count": 3,
     "metadata": {},
     "output_type": "execute_result"
    }
   ],
   "source": [
    "# how to use this model\n",
    "pipe('1/2 teaspoon fresh thyme, minced', grouped_entities=True)"
   ]
  },
  {
   "cell_type": "code",
   "execution_count": 4,
   "id": "53aa72b8-3198-4031-96ab-1a690d551a33",
   "metadata": {},
   "outputs": [
    {
     "name": "stdout",
     "output_type": "stream",
     "text": [
      "QUANTITY  :  1/2\n",
      "UNIT  :  teaspoon\n",
      "DF  :  fresh\n",
      "NAME  :  thyme\n",
      "STATE  :  minced\n"
     ]
    }
   ],
   "source": [
    "results = pipe('1/2 teaspoon fresh thyme, minced', grouped_entities=True)\n",
    "for entity in results:\n",
    "    print(entity['entity_group'], ' : ', entity['word'])"
   ]
  },
  {
   "cell_type": "code",
   "execution_count": 27,
   "id": "e7c46318-7384-4499-97ae-43e748726f84",
   "metadata": {},
   "outputs": [],
   "source": [
    "# parsing text from book"
   ]
  },
  {
   "cell_type": "code",
   "execution_count": 37,
   "id": "4aa8f4be-255e-42d4-88d0-2c44f17702c2",
   "metadata": {},
   "outputs": [],
   "source": [
    "# creating a page object\n",
    "pageObj = pdfReader.pages[72]"
   ]
  },
  {
   "cell_type": "code",
   "execution_count": 38,
   "id": "41b6658a-1eec-4599-ad98-f758a6715597",
   "metadata": {},
   "outputs": [
    {
     "name": "stdout",
     "output_type": "stream",
     "text": [
      "Drink as an occasional treat!  \n",
      "BANANA DATE SHAKE\n",
      "INGREDIENTS  \n",
      "SERVES 2, MAKES 700 ML  \n",
      "• 1½ cups coconut milk\n",
      "• 3 bananas\n",
      "• 6 dates, seedless\n",
      "• 4 ice cubes\n",
      "• ½ teaspoon cinnamon powder\n",
      " \n",
      "METHOD\n",
      "1. Place coconut milk, bananas, dates, ice \n",
      "and cinnamon into a blender and blend until \n",
      "smooth Serve.\n",
      "TROPICAL SMOOTHIE\n",
      "INGREDIENTS  \n",
      "SERVES 1, MAKES 500 ML\n",
      "• 1 cup coconut water\n",
      "• 1 cup chopped spinach\n",
      "• 1 cup chopped apple\n",
      "• 1 cup mango chunks\n",
      "• ½ teaspoon lemon juice\n",
      " \n",
      "METHOD\n",
      "1. Place all the ingredients into a blender and blend until \n",
      "smooth. \n",
      "2. Let the smoothie cool in the refrigerator for about 20 \n",
      "minutes before serving.\n",
      "Substitution : I f mango is out of season, replace it with 1 \n",
      "cup chopped guava & 2 seedless dates.\n",
      " \n",
      "   67\n",
      "BREAKFAST\n"
     ]
    }
   ],
   "source": [
    "# extracting text from page\n",
    "text = pageObj.extract_text()\n",
    "print(text)"
   ]
  },
  {
   "cell_type": "code",
   "execution_count": 39,
   "id": "060c56da-d1a9-493b-b85e-eddfc9d9045e",
   "metadata": {},
   "outputs": [
    {
     "data": {
      "text/plain": [
       "['Drink as an occasional treat!  ',\n",
       " 'BANANA DATE SHAKE',\n",
       " 'INGREDIENTS  ',\n",
       " 'SERVES 2, MAKES 700 ML  ',\n",
       " '• 1½ cups coconut milk',\n",
       " '• 3 bananas',\n",
       " '• 6 dates, seedless',\n",
       " '• 4 ice cubes',\n",
       " '• ½ teaspoon cinnamon powder',\n",
       " ' ',\n",
       " 'METHOD',\n",
       " '1. Place coconut milk, bananas, dates, ice ',\n",
       " 'and cinnamon into a blender and blend until ',\n",
       " 'smooth Serve.',\n",
       " 'TROPICAL SMOOTHIE',\n",
       " 'INGREDIENTS  ',\n",
       " 'SERVES 1, MAKES 500 ML',\n",
       " '• 1 cup coconut water',\n",
       " '• 1 cup chopped spinach',\n",
       " '• 1 cup chopped apple',\n",
       " '• 1 cup mango chunks',\n",
       " '• ½ teaspoon lemon juice',\n",
       " ' ',\n",
       " 'METHOD',\n",
       " '1. Place all the ingredients into a blender and blend until ',\n",
       " 'smooth. ',\n",
       " '2. Let the smoothie cool in the refrigerator for about 20 ',\n",
       " 'minutes before serving.',\n",
       " 'Substitution : I f mango is out of season, replace it with 1 ',\n",
       " 'cup chopped guava & 2 seedless dates.',\n",
       " ' ',\n",
       " '   67',\n",
       " 'BREAKFAST']"
      ]
     },
     "execution_count": 39,
     "metadata": {},
     "output_type": "execute_result"
    }
   ],
   "source": [
    "text.split('\\n')"
   ]
  },
  {
   "cell_type": "code",
   "execution_count": 40,
   "id": "371e3c38-533c-4dab-b12f-e3dd8641f847",
   "metadata": {},
   "outputs": [
    {
     "name": "stdout",
     "output_type": "stream",
     "text": [
      "NAME  :  Drink\n",
      "NAME  :  BANANA DATE SHAKE\n",
      "NAME  :  INGREDIENTS\n",
      "NAME  :  coconut milk\n",
      "NAME  :  bananas\n",
      "NAME  :  dates\n",
      "NAME  :  ice cubes\n",
      "NAME  :  cinnamon powder\n",
      "NAME  :  METHOD\n",
      "NAME  :  coconut milk\n",
      "NAME  :  banana\n",
      "NAME  :  cinnamon\n",
      "NAME  :  smooth\n",
      "NAME  :  TROPICAL SMOOTHIE\n",
      "NAME  :  INGREDIENTS\n",
      "NAME  :  coconut water\n",
      "NAME  :  spinach\n",
      "NAME  :  apple\n",
      "NAME  :  mango chunks\n",
      "NAME  :  lemon juice\n",
      "NAME  :  METHOD\n",
      "NAME  :  ingredients\n",
      "NAME  :  blender\n",
      "NAME  :  blend\n",
      "NAME  :  smoothie\n",
      "NAME  :  mango\n",
      "NAME  :  guava\n",
      "NAME  :  BREAKFAST\n"
     ]
    }
   ],
   "source": [
    "for _text in text.split('\\n'):\n",
    "    results = pipe(_text, grouped_entities=True)\n",
    "    # print('TEXT : ', _text)\n",
    "    \n",
    "    for entity in results:\n",
    "        if entity['entity_group'] == 'NAME':\n",
    "            print(entity['entity_group'], ' : ', entity['word'])"
   ]
  },
  {
   "cell_type": "code",
   "execution_count": 24,
   "id": "de46f71a-52eb-4f25-a8d2-cb520a3abd99",
   "metadata": {},
   "outputs": [
    {
     "name": "stdout",
     "output_type": "stream",
     "text": [
      "NAME  :  PIÑA COLADA SM\n",
      "NAME  :  van\n",
      "NAME  :  be\n",
      "NAME  :  smoothie\n",
      "NAME  :  smoothie\n",
      "NAME  :  fruit\n"
     ]
    }
   ],
   "source": [
    "results = pipe(text, grouped_entities=True)\n",
    "for entity in results:\n",
    "    print(entity['entity_group'], ' : ', entity['word'])"
   ]
  },
  {
   "cell_type": "code",
   "execution_count": null,
   "id": "b8f9be52-6e31-46d2-a08e-b5c63706b7ef",
   "metadata": {},
   "outputs": [],
   "source": [
    "# how to use this model\n",
    "pipe('1/2 teaspoon fresh thyme, minced', aggregation_strategy=\"AggregationStrategy.SIMPLE\")"
   ]
  },
  {
   "cell_type": "code",
   "execution_count": null,
   "id": "3cf96816-9022-484b-8111-f19011626485",
   "metadata": {},
   "outputs": [],
   "source": [
    "!git lfs install"
   ]
  },
  {
   "cell_type": "code",
   "execution_count": null,
   "id": "5bc21da5-56b5-49e1-8572-37638ac357eb",
   "metadata": {},
   "outputs": [],
   "source": [
    "!git clone https://huggingface.co/edwardjross/xlm-roberta-base-finetuned-recipe-all"
   ]
  },
  {
   "cell_type": "code",
   "execution_count": null,
   "id": "5acc237e-54e3-4832-bb73-4b2199fe1cba",
   "metadata": {},
   "outputs": [],
   "source": [
    "!ls"
   ]
  },
  {
   "cell_type": "code",
   "execution_count": null,
   "id": "60afca38-3ce3-48be-916f-ce1b621922a7",
   "metadata": {},
   "outputs": [],
   "source": [
    "!ls xlm-roberta-base-finetuned-recipe-all"
   ]
  },
  {
   "cell_type": "code",
   "execution_count": null,
   "id": "7a216da1-2f19-4b19-aea3-5aa994335079",
   "metadata": {},
   "outputs": [],
   "source": [
    "!cat xlm-roberta-base-finetuned-recipe-all/README.md"
   ]
  },
  {
   "cell_type": "code",
   "execution_count": null,
   "id": "def196ed-5493-4bb7-8629-3a247d8908e7",
   "metadata": {},
   "outputs": [],
   "source": [
    "# how to load this model?\n",
    "# separate environment with installations"
   ]
  }
 ],
 "metadata": {
  "kernelspec": {
   "display_name": "Python 3 (ipykernel)",
   "language": "python",
   "name": "python3"
  },
  "language_info": {
   "codemirror_mode": {
    "name": "ipython",
    "version": 3
   },
   "file_extension": ".py",
   "mimetype": "text/x-python",
   "name": "python",
   "nbconvert_exporter": "python",
   "pygments_lexer": "ipython3",
   "version": "3.9.2"
  }
 },
 "nbformat": 4,
 "nbformat_minor": 5
}
